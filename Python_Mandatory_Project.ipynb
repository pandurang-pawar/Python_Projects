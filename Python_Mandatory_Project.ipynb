{
  "nbformat": 4,
  "nbformat_minor": 0,
  "metadata": {
    "colab": {
      "provenance": []
    },
    "kernelspec": {
      "name": "python3",
      "display_name": "Python 3"
    },
    "language_info": {
      "name": "python"
    }
  },
  "cells": [
    {
      "cell_type": "markdown",
      "source": [
        "#Q1.\n",
        "\n",
        "You are working in a bank and you have been given two lists of the employees who\n",
        "worked in 2021. Employee’s name in list 1 are Ramesh, Suresh, Mahesh, Ali, Jacob and\n",
        "Saritha. List 2 contains the names of Ali, Mukesh, Mahesh, Jacob, Sai, Sarita. Please write\n",
        "a program which helps to identify people who are common in both lists. Please do not use\n",
        "any in-built function."
      ],
      "metadata": {
        "id": "hdmy5stsDame"
      }
    },
    {
      "cell_type": "code",
      "source": [
        "list1=[\"Ramesh\", \"Suresh\", \"Mahesh\", \"Ali\", \"Jacob\",\"Saritha\"]\n",
        "list2=[\"Ali\", \"Mukesh\", \"Mahesh\", \"Jacob\", \"Sai\", \"Sarita\"]\n"
      ],
      "metadata": {
        "id": "aaJZuyztDehk"
      },
      "execution_count": 1,
      "outputs": []
    },
    {
      "cell_type": "code",
      "source": [
        "type(list1)"
      ],
      "metadata": {
        "colab": {
          "base_uri": "https://localhost:8080/"
        },
        "id": "FXlqY-bBGOGv",
        "outputId": "91272cfa-0c6b-4970-e7ec-e74486ad9bc0"
      },
      "execution_count": 3,
      "outputs": [
        {
          "output_type": "execute_result",
          "data": {
            "text/plain": [
              "set"
            ]
          },
          "metadata": {},
          "execution_count": 3
        }
      ]
    },
    {
      "cell_type": "code",
      "source": [
        "list1.intersection(list2)"
      ],
      "metadata": {
        "colab": {
          "base_uri": "https://localhost:8080/"
        },
        "id": "XPnX8cveGexD",
        "outputId": "b7e248ee-bc15-4f52-d6b7-515d8b81e438"
      },
      "execution_count": 4,
      "outputs": [
        {
          "output_type": "execute_result",
          "data": {
            "text/plain": [
              "{'Ali', 'Jacob', 'Mahesh'}"
            ]
          },
          "metadata": {},
          "execution_count": 4
        }
      ]
    },
    {
      "cell_type": "markdown",
      "source": [
        "# Q2: \n",
        "\n",
        "While entering data, someone entered a few names as a common string “Ramesh\n",
        "Suresh Mohit”. Please write a program which separates all the names and convert them\n",
        "into a list. Once converted in a list, please write a program which adds their age.\n",
        "Ramesh : 25\n",
        "Suresh : 22\n",
        "Mohit : 26"
      ],
      "metadata": {
        "id": "L-Tuwt2SG2Uq"
      }
    },
    {
      "cell_type": "code",
      "source": [
        "Name=\"Ramesh Suresh Mohit\""
      ],
      "metadata": {
        "id": "hGRgMOFBHFFb"
      },
      "execution_count": 7,
      "outputs": []
    },
    {
      "cell_type": "code",
      "source": [
        "new_name=Name.split(' ')\n"
      ],
      "metadata": {
        "id": "EvrFTsedHerU"
      },
      "execution_count": 24,
      "outputs": []
    },
    {
      "cell_type": "code",
      "source": [
        "type(new_name)\n",
        "print(new_name)"
      ],
      "metadata": {
        "colab": {
          "base_uri": "https://localhost:8080/"
        },
        "id": "ue4aRBVrU-BS",
        "outputId": "78307761-9e0d-4921-d0bb-02ae65e87855"
      },
      "execution_count": 25,
      "outputs": [
        {
          "output_type": "stream",
          "name": "stdout",
          "text": [
            "['Ramesh', 'Suresh', 'Mohit']\n"
          ]
        }
      ]
    },
    {
      "cell_type": "code",
      "source": [
        "age=[25,22,26]"
      ],
      "metadata": {
        "id": "a2tq_NfRbzi1"
      },
      "execution_count": 26,
      "outputs": []
    },
    {
      "cell_type": "code",
      "source": [
        "list(zip(new_name,age))"
      ],
      "metadata": {
        "colab": {
          "base_uri": "https://localhost:8080/"
        },
        "id": "qWvgjrrleFMl",
        "outputId": "30434cb1-100e-4567-e9c4-5ec111bc023e"
      },
      "execution_count": 27,
      "outputs": [
        {
          "output_type": "execute_result",
          "data": {
            "text/plain": [
              "[('Ramesh', 25), ('Suresh', 22), ('Mohit', 26)]"
            ]
          },
          "metadata": {},
          "execution_count": 27
        }
      ]
    },
    {
      "cell_type": "code",
      "source": [
        "name_age={}\n",
        "for i, j in zip(new_name,age):\n",
        "  name_age[i]=j\n"
      ],
      "metadata": {
        "id": "3aqgGo0PePXg"
      },
      "execution_count": 28,
      "outputs": []
    },
    {
      "cell_type": "code",
      "source": [
        "print(name_age)"
      ],
      "metadata": {
        "colab": {
          "base_uri": "https://localhost:8080/"
        },
        "id": "Vn7XRgy6iYA8",
        "outputId": "84b40ab9-41d8-417a-b2bc-3ec0100e8aa0"
      },
      "execution_count": 29,
      "outputs": [
        {
          "output_type": "stream",
          "name": "stdout",
          "text": [
            "{'Ramesh': 25, 'Suresh': 22, 'Mohit': 26}\n"
          ]
        }
      ]
    },
    {
      "cell_type": "markdown",
      "source": [
        "#Q3: \n",
        "\n",
        "A few students from a university have taken three exams\n",
        "Name = Sam, Jacy, Tom, Steve\n",
        "Python = 25, 26, 29, 28\n",
        "Statistics = 23, 21, 19, 25\n",
        "SQL = 29, 27, 28, 25\n",
        "Please write a program which calculates mean values (no in-built function for mean) of all\n",
        "three tests and print the highest mean value. Addition and other functions are allowed.\n",
        "Please also report who scored the highest mark in python using programming construct."
      ],
      "metadata": {
        "id": "lehOMfLai1MP"
      }
    },
    {
      "cell_type": "code",
      "source": [
        "Name = [\"Sam\", \"Jacy\", \"Tom\", \"Steve\"]\n",
        "Python = [25, 26, 29, 28]\n",
        "Statistics = [23, 21, 19, 25]\n",
        "SQL = [29, 27, 28, 25]"
      ],
      "metadata": {
        "id": "M2HeAMs7i8fy"
      },
      "execution_count": 135,
      "outputs": []
    },
    {
      "cell_type": "code",
      "source": [
        "#Python\n",
        "total=0\n",
        "for i in Python:\n",
        "  total+=i\n",
        "python_mean=print(\"Python Mean =\", total/len(Python))\n",
        "python_mean=(total/len(Python))\n",
        "\n",
        "#Satistics\n",
        "total=0\n",
        "for i in Statistics:\n",
        "  total+=i\n",
        "stat_mean=print(\"Statistics Mean =\",total/len(Statistics))\n",
        "stat_mean=(total/len(Statistics))\n",
        "\n",
        "#SQL\n",
        "total=0\n",
        "for i in SQL:\n",
        "  total+=i\n",
        "sql_mean=print(\"SQL Mean =\", total/len(SQL))\n",
        "sql_mean=(total/len(SQL))\n",
        "\n",
        "highest_mean=[stat_mean,python_mean,sql_mean]\n",
        "print(\"Highest Mean = \",max(highest_mean))\n",
        "\n",
        "print(\"Highest marks in python = \",max(Python))\n",
        "#Python Topper\n",
        "list(zip(Name,Python))\n",
        "Python_topper={}\n",
        "for i, j in zip(Name,Python):\n",
        "  Python_topper[i]=j\n",
        "print(\"Python Topper is = \", max(Python_topper))"
      ],
      "metadata": {
        "colab": {
          "base_uri": "https://localhost:8080/"
        },
        "id": "9XC8sjzct4e3",
        "outputId": "6017dc91-103d-4405-ca1b-e67b581338c0"
      },
      "execution_count": 144,
      "outputs": [
        {
          "output_type": "stream",
          "name": "stdout",
          "text": [
            "Python Mean = 27.0\n",
            "Statistics Mean = 22.0\n",
            "SQL Mean = 27.25\n",
            "Highest Mean =  27.25\n",
            "Highest marks in python =  29\n",
            "Python Topper is =  Tom\n"
          ]
        }
      ]
    },
    {
      "cell_type": "markdown",
      "source": [
        "# Q4: \n",
        "\n",
        "You are working in a medical store. A patient came to your medical store and asked to\n",
        "buy 2 strips of paracetamol, 3 strips of azithromycin and 5 strips of Vitamin C. One strip\n",
        "of paracetamol costs Rs 35, one strip of azithromycin costs Rs 49 and one strip of vitamin c costs Rs. 33. Patient gave you Rs 2000. Please tell us what is the total cost of each\n",
        "medicine, total cost of all medicine and how much money you refunded to the patient?"
      ],
      "metadata": {
        "id": "M1vk29BBIsuZ"
      }
    },
    {
      "cell_type": "code",
      "source": [
        "paracetamol=int(input(\" Enter the quantity of paracetamol: \"))*35\n",
        "azithromycin=int(input(\" Enter the quantity of azithromycin: \"))*49\n",
        "Vitamin_C=int(input(\" Enter the quantity of Vitamin_C: \"))*33\n",
        "total=paracetamol+azithromycin+Vitamin_C\n",
        "print(\"Total cost of paracetamol = \",paracetamol)\n",
        "print(\"Total cost of azithromycin = \",azithromycin)\n",
        "print(\"Total cost of Vitamin C = \",Vitamin_C)\n",
        "print(\"Grand Total Amount=  \", total)\n",
        "cust_amount=int(input(\"How much money given by customer?: \"))\n",
        "\n",
        "if total!=cust_amount:\n",
        "  print(\"Amount to be return to customer = \",cust_amount-total)\n",
        "else:\n",
        "  print(\"No need to return any money\")"
      ],
      "metadata": {
        "colab": {
          "base_uri": "https://localhost:8080/"
        },
        "id": "RzExH1_7I1P_",
        "outputId": "50558e4f-0661-4ea4-8f5d-6e07fc9e12fc"
      },
      "execution_count": 164,
      "outputs": [
        {
          "output_type": "stream",
          "name": "stdout",
          "text": [
            " Enter the quantity of paracetamol: 2\n",
            " Enter the quantity of azithromycin: 3\n",
            " Enter the quantity of Vitamin_C: 5\n",
            "Total cost of paracetamol =  70\n",
            "Total cost of azithromycin =  147\n",
            "Total cost of Vitamin_C =  165\n",
            " Grand Total Amount=   382\n",
            "How much money given by customer?: 2000\n",
            "Amount to be return to customer =  1618\n"
          ]
        }
      ]
    },
    {
      "cell_type": "markdown",
      "source": [
        "# Q5: \n",
        "\n",
        "Accept a sentence as input and find the number of vowels in it. Assume that the\n",
        "sentence has no punctuation marks. For example: I am learning python contains 6\n",
        "vowels. This function should be applicable for all other different sentences."
      ],
      "metadata": {
        "id": "BIbMlJFPJfS4"
      }
    },
    {
      "cell_type": "code",
      "source": [
        "sentence1=str(input(\"Type a sentence: \"))\n",
        "total=0\n",
        "sentence2=sentence1.lower()\n",
        "for i in sentence2:\n",
        "  vowels=(\"aeiou\")\n",
        "  if i in vowels:\n",
        "    total=total+1\n",
        "print(total)"
      ],
      "metadata": {
        "colab": {
          "base_uri": "https://localhost:8080/"
        },
        "id": "MsjmqCShJlii",
        "outputId": "89d872d8-e9b7-46ab-9af3-c9bb4821347b"
      },
      "execution_count": 212,
      "outputs": [
        {
          "output_type": "stream",
          "name": "stdout",
          "text": [
            "Type a sentence: my name Is Khan\n",
            "4\n"
          ]
        }
      ]
    },
    {
      "cell_type": "code",
      "source": [
        "total=0\n",
        "sentence1=\"I am learning python\"\n",
        "sentence2=sentence1.lower()\n",
        "for i in sentence2:\n",
        "  \n",
        "  vowels=(\"aeiou\")\n",
        " \n",
        "  if i in vowels:\n",
        "    total=total+1\n",
        "print(total)\n",
        "    \n",
        "    "
      ],
      "metadata": {
        "colab": {
          "base_uri": "https://localhost:8080/"
        },
        "id": "tnt6PhNkX3-1",
        "outputId": "257a925d-72b1-4577-991b-b7eadf0cab37"
      },
      "execution_count": 204,
      "outputs": [
        {
          "output_type": "stream",
          "name": "stdout",
          "text": [
            "6\n"
          ]
        }
      ]
    },
    {
      "cell_type": "markdown",
      "source": [
        "# Q6: \n",
        "\n",
        "You have been appointed by the election commission to create a website. Your first\n",
        "task is to work on a program which tells candidates if they are eligible for voting or not. If\n",
        "they are eligible your output should be ‘Congrats! You are eligible’, otherwise it should tell\n",
        "that you have to return after X number of years. Eligibility criteria for voting is 18 years.\n",
        "For example, If someone is 18 or above your output should be ‘Congrats! You are eligible’.\n",
        "If someone’s age is 15 years it should print output as ‘return after 3 years’."
      ],
      "metadata": {
        "id": "j5BiEkj4JmED"
      }
    },
    {
      "cell_type": "code",
      "source": [
        "age=18\n",
        "current_age=int(input(\"Enter your age: \"))\n",
        "year=age-current_age\n",
        "if current_age<18:\n",
        "  print(\"Return after \", year, \"Years\")\n",
        "else:\n",
        "  print(\"Congrats! You are eligible\")"
      ],
      "metadata": {
        "colab": {
          "base_uri": "https://localhost:8080/"
        },
        "id": "shR3AGx2Jrfw",
        "outputId": "3e5de268-ca6d-4259-90e0-e29dee3f3da9"
      },
      "execution_count": 221,
      "outputs": [
        {
          "output_type": "stream",
          "name": "stdout",
          "text": [
            "Enter your age: 15\n",
            "Return after  3 Years\n"
          ]
        }
      ]
    }
  ]
}